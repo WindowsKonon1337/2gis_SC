{
 "cells": [
  {
   "cell_type": "code",
   "execution_count": null,
   "id": "c2aa7a35",
   "metadata": {},
   "outputs": [],
   "source": [
    "import base64\n",
    "import json\n",
    "import requests\n",
    "from faker import Faker"
   ]
  },
  {
   "cell_type": "code",
   "execution_count": null,
   "id": "2899ded9",
   "metadata": {},
   "outputs": [
    {
     "data": {
      "text/plain": [
       "'{\"lat\": 57.516985, \"lon\": -105.151091, \"timestamp\": 1580195113, \"bus_num\": \"1\", \"proc_data\": {\"load\": \"full\", \"people_num\": 30, \"free_entrance\": 0, \"free_seats\": 0}}'"
      ]
     },
     "execution_count": 177,
     "metadata": {},
     "output_type": "execute_result"
    }
   ],
   "source": [
    "def encode_image(image_path):\n",
    "    with open(image_path, \"rb\") as image_file:\n",
    "        return base64.b64encode(image_file.read()).decode(\"utf-8\")\n",
    "\n",
    "image_path = \"./data/loaded_bus.jpg\"\n",
    "\n",
    "base64_image = encode_image(image_path)\n",
    "\n",
    "fake = Faker()\n",
    "lat = fake.latitude()\n",
    "lon = fake.longitude()\n",
    "\n",
    "timestamp = fake.unix_time()\n",
    "\n",
    "bus_num = fake.random_element(elements=('1', '2', '3', '4', '5', '12', '15', '25', '33', '44', '55', '77', '99'))\n",
    "\n",
    "\n",
    "requests.post('http://0.0.0.0:1337/api/v1/proc_image', data=json.dumps({\n",
    "    'lon': float(lon),\n",
    "    'lat': float(lat),\n",
    "    'timestamp': int(timestamp),\n",
    "    'bus_num': bus_num,\n",
    "    'image': base64_image\n",
    "    'cam_num'\n",
    "})).json()"
   ]
  }
 ],
 "metadata": {
  "kernelspec": {
   "display_name": ".venv",
   "language": "python",
   "name": "python3"
  },
  "language_info": {
   "codemirror_mode": {
    "name": "ipython",
    "version": 3
   },
   "file_extension": ".py",
   "mimetype": "text/x-python",
   "name": "python",
   "nbconvert_exporter": "python",
   "pygments_lexer": "ipython3",
   "version": "3.11.13"
  }
 },
 "nbformat": 4,
 "nbformat_minor": 5
}
