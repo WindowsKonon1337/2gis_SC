{
 "cells": [
  {
   "cell_type": "code",
   "execution_count": 1,
   "id": "c2aa7a35",
   "metadata": {},
   "outputs": [],
   "source": [
    "import base64\n",
    "import json\n",
    "import requests\n",
    "from faker import Faker"
   ]
  },
  {
   "cell_type": "code",
   "execution_count": 43,
   "id": "2899ded9",
   "metadata": {},
   "outputs": [],
   "source": [
    "def encode_image(image_path):\n",
    "    with open(image_path, \"rb\") as image_file:\n",
    "        return base64.b64encode(image_file.read()).decode(\"utf-8\")\n",
    "\n",
    "image_path = \"./data/empty_bus.jpg\"\n",
    "\n",
    "base64_image = encode_image(image_path)\n",
    "base64_image2 = encode_image('./data/3 (2).jpg')\n",
    "\n",
    "fake = Faker()\n",
    "lat = fake.latitude()\n",
    "lon = fake.longitude()\n",
    "\n",
    "timestamp = fake.unix_time()\n",
    "\n",
    "bus_num = fake.random_element(elements=('1', '2', '3', '4', '5', '12', '15', '25', '33', '44', '55', '77', '99'))\n",
    "\n",
    "\n",
    "result = requests.post('http://0.0.0.0:1338/api/v1/crowd_analysis', data=json.dumps({\n",
    "    'images': [{'image_bytes': base64_image, 'cam_info': 'frontal', 'cam_num': 1, 'gate_pos': [1,2]}, {'image_bytes': base64_image2, 'cam_info': 'frontal', 'cam_num': 1, 'gate_pos': [1,2]}],\n",
    "}))"
   ]
  },
  {
   "cell_type": "code",
   "execution_count": 44,
   "id": "98f45307",
   "metadata": {},
   "outputs": [
    {
     "data": {
      "text/plain": [
       "{'seats': 5, 'people': 5, 'free_entrance': 1}"
      ]
     },
     "execution_count": 44,
     "metadata": {},
     "output_type": "execute_result"
    }
   ],
   "source": [
    "result.json()"
   ]
  },
  {
   "cell_type": "code",
   "execution_count": 4,
   "id": "dfd42f8d",
   "metadata": {},
   "outputs": [
    {
     "data": {
      "text/plain": [
       "'{\"lat\": null, \"lon\": null, \"timestamp\": null, \"bus_num\": null, \"cam_num\": null, \"proc_data\": {\"load\": \"full\", \"people_num\": 29, \"free_entrance\": 0, \"free_seats\": 0}}'"
      ]
     },
     "execution_count": 4,
     "metadata": {},
     "output_type": "execute_result"
    }
   ],
   "source": [
    "requests.post('http://0.0.0.0:1337/api/v1/proc_image', data=json.dumps({\n",
    "    #'lon': float(lon),\n",
    "    #'lat': float(lat),\n",
    "    #'timestamp': int(timestamp),\n",
    "    #'bus_num': bus_num,\n",
    "    'image': base64_image,\n",
    "    #'cam_num': fake.random_int()\n",
    "})).json()"
   ]
  }
 ],
 "metadata": {
  "kernelspec": {
   "display_name": ".venv",
   "language": "python",
   "name": "python3"
  },
  "language_info": {
   "codemirror_mode": {
    "name": "ipython",
    "version": 3
   },
   "file_extension": ".py",
   "mimetype": "text/x-python",
   "name": "python",
   "nbconvert_exporter": "python",
   "pygments_lexer": "ipython3",
   "version": "3.11.13"
  }
 },
 "nbformat": 4,
 "nbformat_minor": 5
}
